{
  "nbformat": 4,
  "nbformat_minor": 0,
  "metadata": {
    "colab": {
      "provenance": []
    },
    "kernelspec": {
      "name": "python3",
      "display_name": "Python 3"
    },
    "language_info": {
      "name": "python"
    }
  },
  "cells": [
    {
      "cell_type": "code",
      "source": [
        "!pip install -q streamlit\n",
        "!pip install -q keras"
      ],
      "metadata": {
        "id": "srbiJHOy9lJD"
      },
      "execution_count": 7,
      "outputs": []
    },
    {
      "cell_type": "code",
      "source": [
        "!npm install localtunnel"
      ],
      "metadata": {
        "id": "YnVlFQI_8JG0",
        "colab": {
          "base_uri": "https://localhost:8080/"
        },
        "outputId": "1b44fd09-eb31-44da-97f1-014c89660af0"
      },
      "execution_count": 8,
      "outputs": [
        {
          "output_type": "stream",
          "name": "stdout",
          "text": [
            "\u001b[K\u001b[?25h\n",
            "up to date, audited 23 packages in 671ms\n",
            "\n",
            "3 packages are looking for funding\n",
            "  run `npm fund` for details\n",
            "\n",
            "2 \u001b[33m\u001b[1mmoderate\u001b[22m\u001b[39m severity vulnerabilities\n",
            "\n",
            "To address all issues (including breaking changes), run:\n",
            "  npm audit fix --force\n",
            "\n",
            "Run `npm audit` for details.\n"
          ]
        }
      ]
    },
    {
      "cell_type": "code",
      "source": [
        "%%writefile app.py\n",
        "import streamlit as st\n",
        "import keras\n",
        "import streamlit as st\n",
        "import pandas as pd\n",
        "import numpy as np\n",
        "from sklearn.model_selection import train_test_split\n",
        "from sklearn.preprocessing import OneHotEncoder, StandardScaler\n",
        "from tensorflow.keras.models import Sequential\n",
        "from tensorflow.keras.layers import Dense\n",
        "from tensorflow.keras.utils import plot_model\n",
        "from sklearn.metrics import accuracy_score, classification_report\n",
        "from sklearn.ensemble import RandomForestClassifier\n",
        "\n",
        "# Função para carregar e processar os dados\n",
        "def load_data():\n",
        "    url = 'https://raw.githubusercontent.com/CD-CrashTest/Crash_Test/refs/heads/main/scrappingNewDf.csv'\n",
        "    data = pd.read_csv(url)\n",
        "    data['Kerb Weight'] = data['Kerb Weight'].str.replace('kg', '').astype(float)\n",
        "    return data\n",
        "\n",
        "# Função de pré-processamento\n",
        "def preprocess_data(data):\n",
        "    numeric_cols = data.select_dtypes(include=[np.number]).columns\n",
        "    for col in numeric_cols:\n",
        "        mean = data[col].mean()\n",
        "        std_dev = data[col].std()\n",
        "        data[col] = data[col].apply(lambda x: np.random.uniform(mean - std_dev, mean + std_dev) if pd.isna(x) else x)\n",
        "    return data\n",
        "\n",
        "def randonforest_trainer (x_train, x_test, y_train, y_test):\n",
        "    # Inicializar e treinar o classificador Random Forest\n",
        "    clf = RandomForestClassifier(random_state=42)\n",
        "    clf.fit(x_train, y_train)\n",
        "\n",
        "    # Fazer previsões e avaliar o modelo\n",
        "    y_pred = clf.predict(x_test)\n",
        "    accuracy = accuracy_score(y_test, y_pred)\n",
        "    report = classification_report(y_test, y_pred)\n",
        "\n",
        "    return clf, accuracy, report\n",
        "\n",
        "def keras_trainer (x_train, x_test, y_train, y_test):\n",
        "  # Criar o modelo\n",
        "    model = Sequential()\n",
        "    model.add(Dense(64, activation='relu', input_shape=(x_train.shape[1],)))\n",
        "    model.add(Dense(32, activation='relu'))\n",
        "    model.add(Dense(6, activation='softmax')) # 6 classes (0 a 5)\n",
        "\n",
        "    # Compilar o modelo\n",
        "    optimizer = keras.optimizers.Adam(learning_rate=0.01) # Altere o valor 0.001 para o learning rate desejado\n",
        "\n",
        "    # Compilar o modelo com o otimizador definido\n",
        "    model.compile(optimizer=optimizer, loss='sparse_categorical_crossentropy', metrics=['accuracy'])\n",
        "\n",
        "    # Treinar o modelo\n",
        "    history = model.fit(x_train, y_train, epochs=60, batch_size=200, validation_split=0.2)\n",
        "\n",
        "    # Avaliar o modelo\n",
        "    loss, accuracy = model.evaluate(x_test, y_test, verbose=0)\n",
        "    y_pred = (model.predict(x_test) > 0.5).astype(int)\n",
        "\n",
        "    return model, history, accuracy\n",
        "\n",
        "def encode_df (data):\n",
        "  # Selecionar as features relevantes\n",
        "    features_selected = ['Kerb Weight', 'Safety Features', 'CRS Installation Check', 'Class', 'Seatbelt Reminder']\n",
        "    features = data[features_selected]\n",
        "\n",
        "    # Converter features categóricas para numéricas usando one-hot encoding\n",
        "    categorical_features = ['Class', 'Safety Features', 'CRS Installation Check', 'Seatbelt Reminder'] #Especificar as colunas categoricas\n",
        "    numerical_features = ['Kerb Weight'] #Especificar as colunas numericas\n",
        "\n",
        "    # Converter as features categóricas para numéricas usando one-hot encoding\n",
        "    encoder = OneHotEncoder(handle_unknown='ignore', sparse_output=False)\n",
        "    encoded_features = encoder.fit_transform(features[categorical_features])\n",
        "\n",
        "    # Criar um novo dataframe com as features codificadas\n",
        "    encoded_df = pd.DataFrame(encoded_features, columns=encoder.get_feature_names_out(categorical_features))\n",
        "\n",
        "    # Concatenar as features numéricas com as codificadas\n",
        "    X = pd.concat([features[numerical_features], encoded_df], axis=1)\n",
        "\n",
        "    # Converter o rating para numérico (se necessário)\n",
        "    y = data['rating'].astype(int)\n",
        "\n",
        "    # Dividir os dados em treinamento e teste\n",
        "    X_train, X_test, y_train, y_test = train_test_split(X, y, test_size=0.2, random_state=42)\n",
        "\n",
        "    # Normalizar os dados numéricos\n",
        "    scaler = StandardScaler()\n",
        "    X_train_scaled = scaler.fit_transform(X_train)\n",
        "    X_test_scaled = scaler.transform(X_test)\n",
        "\n",
        "    return encoder, scaler, X_train_scaled, X_test_scaled, y_train, y_test\n",
        "\n",
        "def train_models(data):\n",
        "\n",
        "    encoder, scaler, X_train_scaled, X_test_scaled, y_train, y_test = encode_df(data)\n",
        "    model_keras, history_keras, accuracy_keras = keras_trainer(X_train_scaled, X_test_scaled, y_train, y_test)\n",
        "    model_rf, accuracy_rf, report_rf = randonforest_trainer(X_train_scaled, X_test_scaled, y_train, y_test)\n",
        "\n",
        "    return encoder, scaler, model_keras, model_rf, accuracy_keras, accuracy_rf, history_keras, report_rf\n",
        "\n",
        "def user_input_features():\n",
        "    st.header('Insira os dados do veículo para previsão')\n",
        "\n",
        "    # Entrada dos dados\n",
        "    kerb_weight = st.number_input(\"Peso do veículo em Kg\", min_value=500.0, max_value=3000.0, step=0.1)\n",
        "    safety_features = st.number_input(\"Nota dos equipamentos de segurança (0-10)\", min_value=0.0, max_value=10.0, step=0.1)\n",
        "    crs_installation = st.number_input(\"Nota da facilidade para cadeirinha infantil (0-12)\", min_value=0.0, max_value=12.0, step=0.1)\n",
        "    vehicle_class = st.text_input(\"Classe do veículo\")\n",
        "    seatbelt_reminder = st.selectbox(\"Aviso de cinto de segurança\", options=['sim', 'nao'])\n",
        "\n",
        "    # Criação do DataFrame com os dados do usuário\n",
        "    user_input = pd.DataFrame({\n",
        "        'Kerb Weight': [kerb_weight],\n",
        "        'Safety Features': [safety_features],\n",
        "        'CRS Installation Check': [crs_installation],\n",
        "        'Class': [vehicle_class],\n",
        "        'Seatbelt Reminder': [seatbelt_reminder]\n",
        "    })\n",
        "    return user_input\n",
        "\n",
        "\n",
        "# Interface Streamlit\n",
        "st.set_page_config(layout=\"wide\")\n",
        "st.title(\"Análise de Crash Test de Veículos com Random Forest e Keras\")\n",
        "st.write(\"Este aplicativo permite carregar, processar dados e treinar um modelo Random Forest e Keras.\")\n",
        "\n",
        "if st.button(\"Carregar e processar dados\"):\n",
        "    data = load_data()\n",
        "    st.write(\"Dados carregados com sucesso!\")\n",
        "    st.write(\"Pré-processando dados...\")\n",
        "    data = preprocess_data(data)\n",
        "    st.write(\"Dados processados!\")\n",
        "    st.write(data.head())\n",
        "\n",
        "user_input = user_input_features()\n",
        "\n",
        "if st.button(\"Rodar Validação\"):\n",
        "    st.write(\"Iniciando treinamento dos modelos!\")\n",
        "    data = load_data()\n",
        "    data = preprocess_data(data)\n",
        "    encoder, scaler, model_keras, model_rf, accuracy_keras, accuracy_rf, history_keras, report_rf = train_models(data)\n",
        "    st.write(\"Modelos treinados!\")\n",
        "\n",
        "    # Codificação e escalonamento dos dados do usuário\n",
        "    user_encoded = encoder.transform(user_input[['Class', 'Safety Features', 'CRS Installation Check', 'Seatbelt Reminder']])\n",
        "    X_user = pd.concat([user_input[['Kerb Weight']], pd.DataFrame(user_encoded, columns=encoder.get_feature_names_out())], axis=1)\n",
        "    X_user_scaled = scaler.transform(X_user)\n",
        "\n",
        "    # Previsão Random Forest\n",
        "    prediction_rf = model_rf.predict(X_user_scaled)\n",
        "    predicted_class_rf = prediction_rf[0]\n",
        "\n",
        "    # Previsão Keras\n",
        "    prediction_keras = model_keras.predict(X_user_scaled)\n",
        "    predicted_class_keras = np.argmax(prediction_keras)\n",
        "\n",
        "    st.write(\"Entrada do usuário:\")\n",
        "    st.write(user_input)\n",
        "\n",
        "    c1, c2 = st.columns(2)\n",
        "\n",
        "    c1.write(\"### Random Forest\")\n",
        "    c1.write(f\"Acurácia do modelo: {accuracy_rf}\")\n",
        "    c1.write(report_rf)\n",
        "    # Exibir resultado\n",
        "    c1.write(\"### Resultado da Previsão\")\n",
        "    c1.write(f\"Previsão do Rating: {predicted_class_rf}\")\n",
        "\n",
        "    c2.write(\"### Keras\")\n",
        "    c2.write(f\"Acurácia do modelo: {accuracy_keras}\")\n",
        "    # Exibir gráfico de histórico de treinamento\n",
        "    c2.write(\"Histórico de Treinamento\")\n",
        "    c2.line_chart(pd.DataFrame(history_keras.history))\n",
        "    # Exibir resultado\n",
        "    c2.write(\"### Resultado da Previsão\")\n",
        "    c2.write(f\"Previsão do Rating: {predicted_class_keras}\")"
      ],
      "metadata": {
        "id": "MmMf0BdL8I-W",
        "colab": {
          "base_uri": "https://localhost:8080/"
        },
        "outputId": "cda0c046-beae-46c3-e79a-ffea9dd306d5"
      },
      "execution_count": 9,
      "outputs": [
        {
          "output_type": "stream",
          "name": "stdout",
          "text": [
            "Overwriting app.py\n"
          ]
        }
      ]
    },
    {
      "cell_type": "code",
      "source": [
        "!streamlit run app.py &>/content/logs.txt &"
      ],
      "metadata": {
        "id": "-EWb0L3_8VqI"
      },
      "execution_count": 10,
      "outputs": []
    },
    {
      "cell_type": "code",
      "source": [
        "!wget -q -O - ipv4.icanhazip.com"
      ],
      "metadata": {
        "id": "D5yN_vbT80-p",
        "colab": {
          "base_uri": "https://localhost:8080/"
        },
        "outputId": "a860eec2-0dd9-489b-b13a-796842397bb0"
      },
      "execution_count": 11,
      "outputs": [
        {
          "output_type": "stream",
          "name": "stdout",
          "text": [
            "35.186.187.234\n"
          ]
        }
      ]
    },
    {
      "cell_type": "code",
      "source": [
        "!npx localtunnel --port 8501"
      ],
      "metadata": {
        "id": "1A1BR02c8WB6",
        "colab": {
          "base_uri": "https://localhost:8080/"
        },
        "outputId": "8cddc13d-dd6a-4d1a-d4f9-da3f5c63aaae"
      },
      "execution_count": null,
      "outputs": [
        {
          "output_type": "stream",
          "name": "stdout",
          "text": [
            "your url is: https://true-turkeys-agree.loca.lt\n"
          ]
        }
      ]
    }
  ]
}